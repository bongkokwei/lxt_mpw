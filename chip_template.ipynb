{
 "cells": [
  {
   "cell_type": "code",
   "execution_count": 1,
   "metadata": {},
   "outputs": [],
   "source": [
    "from functools import partial\n",
    "from pathlib import Path\n",
    "from gdsfactory.typings import ComponentSpec, ComponentReference, ComponentOrReference\n",
    "\n",
    "import numpy as np\n",
    "import gdsfactory as gf\n",
    "import lnoi400"
   ]
  },
  {
   "cell_type": "code",
   "execution_count": 2,
   "metadata": {},
   "outputs": [],
   "source": [
    "@gf.cell\n",
    "def chip_frame(size: tuple[int, int] = (10000, 5000)):\n",
    "    c = gf.get_component(\"chip_frame\", size=size, center=(0, 0))\n",
    "    return c\n",
    "\n",
    "\n",
    "@gf.cell(check_ports=False)\n",
    "def double_taper_array(\n",
    "    cols: int = 1,\n",
    "    rows: int = 16,\n",
    "    pitch: int = (0, 127),  # micron\n",
    "    input_ext: float = 10.0,\n",
    "):\n",
    "    double_taper = gf.get_component(\n",
    "        \"double_linear_inverse_taper\",\n",
    "        input_ext=input_ext,\n",
    "    )\n",
    "\n",
    "    dt_array = gf.Component()\n",
    "    ref = dt_array << gf.components.array(\n",
    "        double_taper, columns=cols, rows=rows, spacing=pitch\n",
    "    )\n",
    "\n",
    "    dt_ports = rename_ports(ref, keyword=\"o1\")\n",
    "    dt_array.add_ports(dt_ports)\n",
    "    dt_array.auto_rename_ports()\n",
    "    return dt_array\n",
    "\n",
    "\n",
    "@gf.cell(check_ports=False)\n",
    "def pad_array(\n",
    "    cols: int = 16,\n",
    "    rows: int = 2,\n",
    "    pitch: tuple[float, float] = (300, 1000),  # micron\n",
    "    pad_size: tuple[float, float] = (150.0, 200.0),\n",
    "):\n",
    "    pad_array = gf.Component()\n",
    "    ref = pad_array << gf.components.array(\n",
    "        gf.components.pad(size=pad_size, layer=\"TL\"),\n",
    "        columns=cols,\n",
    "        rows=rows,\n",
    "        spacing=pitch,\n",
    "    )\n",
    "    pad_ports = rename_ports(ref, keyword=\"e1\")\n",
    "    pad_array.add_ports(pad_ports)\n",
    "    pad_array.auto_rename_ports()\n",
    "\n",
    "    return pad_array\n",
    "\n",
    "\n",
    "def rename_ports(\n",
    "    component: ComponentOrReference,\n",
    "    keyword: str = \"o1\",\n",
    ") -> dict:\n",
    "    ref_ports = component.ports.filter(regex=keyword)\n",
    "    return ref_ports\n",
    "\n",
    "\n",
    "# chip_layout = chip_frame()\n",
    "# chip_layout\n",
    "\n",
    "# dt_array = double_taper_array()\n",
    "# dt_array.pprint_ports()\n",
    "# dt_array.plot()\n",
    "\n",
    "# rf_pads = pad_array()\n",
    "# rf_pads.pprint_ports()\n",
    "# rf_pads.plot()"
   ]
  },
  {
   "cell_type": "markdown",
   "metadata": {},
   "source": [
    "# Defining the template"
   ]
  },
  {
   "cell_type": "code",
   "execution_count": 10,
   "metadata": {},
   "outputs": [
    {
     "data": {
      "text/html": [
       "<pre style=\"white-space:pre;overflow-x:auto;line-height:normal;font-family:Menlo,'DejaVu Sans Mono',consolas,'Courier New',monospace\">┏━━━━━━┳━━━━━━━┳━━━━━━━━━━━━━┳━━━━━━━┳━━━━━━━━┳━━━━━━━━━━━┓\n",
       "┃<span style=\"font-weight: bold\"> name </span>┃<span style=\"font-weight: bold\"> width </span>┃<span style=\"font-weight: bold\"> orientation </span>┃<span style=\"font-weight: bold\"> layer </span>┃<span style=\"font-weight: bold\"> center </span>┃<span style=\"font-weight: bold\"> port_type </span>┃\n",
       "┡━━━━━━╇━━━━━━━╇━━━━━━━━━━━━━╇━━━━━━━╇━━━━━━━━╇━━━━━━━━━━━┩\n",
       "└──────┴───────┴─────────────┴───────┴────────┴───────────┘\n",
       "</pre>\n"
      ],
      "text/plain": [
       "┏━━━━━━┳━━━━━━━┳━━━━━━━━━━━━━┳━━━━━━━┳━━━━━━━━┳━━━━━━━━━━━┓\n",
       "┃\u001b[1m \u001b[0m\u001b[1mname\u001b[0m\u001b[1m \u001b[0m┃\u001b[1m \u001b[0m\u001b[1mwidth\u001b[0m\u001b[1m \u001b[0m┃\u001b[1m \u001b[0m\u001b[1morientation\u001b[0m\u001b[1m \u001b[0m┃\u001b[1m \u001b[0m\u001b[1mlayer\u001b[0m\u001b[1m \u001b[0m┃\u001b[1m \u001b[0m\u001b[1mcenter\u001b[0m\u001b[1m \u001b[0m┃\u001b[1m \u001b[0m\u001b[1mport_type\u001b[0m\u001b[1m \u001b[0m┃\n",
       "┡━━━━━━╇━━━━━━━╇━━━━━━━━━━━━━╇━━━━━━━╇━━━━━━━━╇━━━━━━━━━━━┩\n",
       "└──────┴───────┴─────────────┴───────┴────────┴───────────┘\n"
      ]
     },
     "metadata": {},
     "output_type": "display_data"
    },
    {
     "data": {
      "image/png": "[encoded data removed]",
      "text/plain": [
       "<Figure size 800x600 with 1 Axes>"
      ]
     },
     "metadata": {},
     "output_type": "display_data"
    }
   ],
   "source": [
    "gf.clear_cache()\n",
    "chip_template = gf.Component(\"Trilobite_WP2_ORCA_UCL_BAY\")\n",
    "\n",
    "# Add chip frame\n",
    "chip_size = (10000, 5000)\n",
    "chip_frame_ref = chip_template << chip_frame(size=chip_size)\n",
    "\n",
    "# Add inverse taper\n",
    "dt_east = double_taper_array(rows=16, pitch=(0, 250))\n",
    "optical_east_ref = chip_template << dt_east\n",
    "optical_east_ref.dmove(\n",
    "    (\n",
    "        chip_frame_ref.dxmin + chip_frame_ref.dxsize - optical_east_ref.dxsize,\n",
    "        0.5 * (chip_frame_ref.dysize - optical_east_ref.dysize) + chip_frame_ref.dymin,\n",
    "    )\n",
    ")\n",
    "# chip_template.add_ports(optical_east_ref)\n",
    "\n",
    "dt_west = double_taper_array(rows=16, pitch=(0, 250))\n",
    "optical_west_ref = chip_template << dt_west\n",
    "optical_west_ref.mirror_x()\n",
    "optical_west_ref.dmove(\n",
    "    (\n",
    "        chip_frame_ref.dxmin + optical_west_ref.dxsize,\n",
    "        0.5 * (chip_frame_ref.dysize - optical_west_ref.dysize) + chip_frame_ref.dymin,\n",
    "    )\n",
    ")\n",
    "# chip_template.add_ports(optical_west_ref)\n",
    "\n",
    "# Add pads\n",
    "pads_offset = 500\n",
    "pads_ref = chip_template << pad_array(cols=30, pitch=(300, chip_size[1] - pads_offset))\n",
    "pads_ref.dmove(\n",
    "    (\n",
    "        chip_frame_ref.dxmin + (chip_frame_ref.dxsize - pads_ref.dxsize) / 1.8,\n",
    "        chip_frame_ref.dymin + (chip_frame_ref.dysize - pads_ref.dysize) / 1.15,\n",
    "    )\n",
    ")\n",
    "# chip_template.add_ports(pads_ref)\n",
    "\n",
    "# print((pads_ref.ports[\"e16\"].dx, optical_east_ref.ports[\"o16\"].dy))\n",
    "east_loopback = gf.routing.route_single(\n",
    "    chip_template,\n",
    "    port1=optical_east_ref.ports[\"o1\"],\n",
    "    port2=optical_east_ref.ports[\"o16\"],\n",
    "    cross_section=\"xs_rwg1000\",\n",
    "    bend=\"L_turn_bend\",\n",
    "    # waypoints=[(pads_ref.ports[\"e16\"].dx, optical_east_ref.ports[\"o16\"].dy)],\n",
    ")\n",
    "\n",
    "chip_template.plot(return_fig=True)\n",
    "chip_template.pprint_ports()\n",
    "# chip_template.write_gds(\"chip_template.gds\")"
   ]
  }
 ],
 "metadata": {
  "kernelspec": {
   "display_name": ".venv",
   "language": "python",
   "name": "python3"
  },
  "language_info": {
   "codemirror_mode": {
    "name": "ipython",
    "version": 3
   },
   "file_extension": ".py",
   "mimetype": "text/x-python",
   "name": "python",
   "nbconvert_exporter": "python",
   "pygments_lexer": "ipython3",
   "version": "3.12.2"
  }
 },
 "nbformat": 4,
 "nbformat_minor": 2
}
